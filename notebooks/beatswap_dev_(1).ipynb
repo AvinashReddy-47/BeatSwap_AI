{
  "nbformat": 4,
  "nbformat_minor": 0,
  "metadata": {
    "colab": {
      "provenance": []
    },
    "kernelspec": {
      "name": "python3",
      "display_name": "Python 3"
    },
    "language_info": {
      "name": "python"
    }
  },
  "cells": [
    {
      "cell_type": "markdown",
      "source": [
        "# 🎧 BeatSwap AI\n",
        "\n",
        "**BeatSwap AI** is a smart remixing tool that analyzes the vibe of a vocal track and recommends or replaces the instrumental beat that best matches its mood, key, and tempo.\n",
        "\n",
        "This is useful for:\n",
        "- Artists exploring new remixes\n",
        "- Producers experimenting with fresh arrangements\n",
        "- Music lovers trying alternate moods for the same vocals\n",
        "\n",
        "This project uses:\n",
        "- **Source Separation** (to extract vocals)\n",
        "- **Audio Feature Analysis** (tempo, key, energy)\n",
        "- **Similarity Matching** (for beat suggestions)\n",
        "- **Audio Reconstruction** (new instrumental with old vocals)\n"
      ],
      "metadata": {
        "id": "vlrYnwPhkBAl"
      }
    },
    {
      "cell_type": "code",
      "source": [
        "# Install libraries\n",
        "!pip install spleeter pydub librosa matplotlib numpy soundfile\n",
        "\n",
        "# For audio playback in Colab\n",
        "from IPython.display import Audio, display\n"
      ],
      "metadata": {
        "id": "k7bOkBzoW7T-"
      },
      "execution_count": null,
      "outputs": []
    },
    {
      "cell_type": "code",
      "source": [
        "from google.colab import files\n",
        "import os\n",
        "\n",
        "# Upload file\n",
        "uploaded = files.upload()\n",
        "\n",
        "# Get file name\n",
        "file_name = next(iter(uploaded))\n",
        "print(\"Uploaded:\", file_name)\n",
        "\n",
        "# Play original audio\n",
        "display(Audio(filename=file_name))\n"
      ],
      "metadata": {
        "id": "3WUELH87ljFx"
      },
      "execution_count": null,
      "outputs": []
    },
    {
      "cell_type": "code",
      "source": [
        "import os\n",
        "\n",
        "# Make sure the file is renamed and exists\n",
        "if os.path.exists(\"Camila Cabello - Havana (Audio) ft. Young Thug.mp3\"):\n",
        "    os.rename(\"Camila Cabello - Havana (Audio) ft. Young Thug.mp3\", \"havana.mp3\")\n",
        "\n",
        "print(os.listdir())  # This should show 'havana.mp3'\n"
      ],
      "metadata": {
        "id": "_EAYznEWxpPS"
      },
      "execution_count": null,
      "outputs": []
    },
    {
      "cell_type": "code",
      "source": [
        "from spleeter.separator import Separator\n",
        "\n",
        "# Initialize separator with 2 stems (vocals + accompaniment)\n",
        "separator = Separator('spleeter:2stems')\n",
        "\n",
        "# Separate the audio\n",
        "separator.separate_to_file(\"havana.mp3\", \"output\")\n"
      ],
      "metadata": {
        "id": "ZqtvTeBSw87U"
      },
      "execution_count": null,
      "outputs": []
    },
    {
      "cell_type": "code",
      "source": [
        "from IPython.display import Audio\n",
        "\n",
        "# Listen to vocals\n",
        "Audio(\"/content/output/havana/vocals.wav\")\n"
      ],
      "metadata": {
        "id": "AP-VXUYxx5P6"
      },
      "execution_count": null,
      "outputs": []
    },
    {
      "cell_type": "code",
      "source": [
        "# Listen to accompaniment\n",
        "Audio(\"/content/output/havana/accompaniment.wav\")\n"
      ],
      "metadata": {
        "id": "i4nOdBidyG_a"
      },
      "execution_count": null,
      "outputs": []
    }
  ]
}